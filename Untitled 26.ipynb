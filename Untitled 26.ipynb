{
 "cells": [
  {
   "cell_type": "code",
   "execution_count": 1,
   "id": "3fbf09cd",
   "metadata": {},
   "outputs": [
    {
     "name": "stdout",
     "output_type": "stream",
     "text": [
      "Requirement already satisfied: nltk in c:\\users\\admin\\anaconda3\\lib\\site-packages (3.9.1)\n",
      "Requirement already satisfied: click in c:\\users\\admin\\anaconda3\\lib\\site-packages (from nltk) (8.1.7)\n",
      "Requirement already satisfied: joblib in c:\\users\\admin\\anaconda3\\lib\\site-packages (from nltk) (1.4.2)\n",
      "Requirement already satisfied: regex>=2021.8.3 in c:\\users\\admin\\anaconda3\\lib\\site-packages (from nltk) (2024.9.11)\n",
      "Requirement already satisfied: tqdm in c:\\users\\admin\\anaconda3\\lib\\site-packages (from nltk) (4.66.5)\n",
      "Requirement already satisfied: colorama in c:\\users\\admin\\anaconda3\\lib\\site-packages (from click->nltk) (0.4.6)\n",
      "Note: you may need to restart the kernel to use updated packages.\n"
     ]
    }
   ],
   "source": [
    "pip install nltk"
   ]
  },
  {
   "cell_type": "code",
   "execution_count": 2,
   "id": "7ae62ae5",
   "metadata": {},
   "outputs": [
    {
     "name": "stderr",
     "output_type": "stream",
     "text": [
      "[nltk_data] Downloading package vader_lexicon to\n",
      "[nltk_data]     C:\\Users\\Admin\\AppData\\Roaming\\nltk_data...\n"
     ]
    },
    {
     "data": {
      "text/plain": [
       "True"
      ]
     },
     "execution_count": 2,
     "metadata": {},
     "output_type": "execute_result"
    }
   ],
   "source": [
    "import nltk\n",
    "nltk.download('vader_lexicon')"
   ]
  },
  {
   "cell_type": "code",
   "execution_count": 3,
   "id": "2ed8418e",
   "metadata": {},
   "outputs": [
    {
     "name": "stdout",
     "output_type": "stream",
     "text": [
      "Political Speech Sentiment Analysis\n",
      "==================================================\n",
      "\n",
      "Speech 1: We will make America great again. Believe me, it's going to be huge.\n",
      "------------------------------------------------------------\n",
      "Positive sentiment: 0.368\n",
      "Negative sentiment: 0.000\n",
      "Neutral sentiment:  0.632\n",
      "Compound sentiment: 0.751\n",
      "Overall sentiment: Positive\n",
      "Intensity: Strong\n",
      "\n",
      "Speech 2: Our country needs change. We must work together to build a better future.\n",
      "------------------------------------------------------------\n",
      "Positive sentiment: 0.209\n",
      "Negative sentiment: 0.000\n",
      "Neutral sentiment:  0.791\n",
      "Compound sentiment: 0.440\n",
      "Overall sentiment: Positive\n",
      "Intensity: Moderate\n",
      "\n",
      "Speech 3: I'm against the current government's policies. They're failing our nation.\n",
      "------------------------------------------------------------\n",
      "Positive sentiment: 0.000\n",
      "Negative sentiment: 0.268\n",
      "Neutral sentiment:  0.732\n",
      "Compound sentiment: -0.511\n",
      "Overall sentiment: Negative\n",
      "Intensity: Strong\n",
      "\n",
      "Speech 4: This administration has achieved remarkable success in economic growth.\n",
      "------------------------------------------------------------\n",
      "Positive sentiment: 0.623\n",
      "Negative sentiment: 0.000\n",
      "Neutral sentiment:  0.377\n",
      "Compound sentiment: 0.872\n",
      "Overall sentiment: Positive\n",
      "Intensity: Strong\n",
      "\n",
      "Speech 5: The opposition's proposals would be catastrophic for our economy.\n",
      "------------------------------------------------------------\n",
      "Positive sentiment: 0.000\n",
      "Negative sentiment: 0.286\n",
      "Neutral sentiment:  0.714\n",
      "Compound sentiment: -0.494\n",
      "Overall sentiment: Negative\n",
      "Intensity: Moderate\n"
     ]
    }
   ],
   "source": [
    "import nltk\n",
    "from nltk.sentiment.vader import SentimentIntensityAnalyzer\n",
    "import sys\n",
    "\n",
    "def download_vader_lexicon():\n",
    "    \"\"\"Download VADER lexicon with error handling\"\"\"\n",
    "    try:\n",
    "        nltk.download('vader_lexicon', quiet=True)\n",
    "        return True\n",
    "    except Exception as e:\n",
    "        print(f\"Error downloading VADER lexicon: {e}\")\n",
    "        return False\n",
    "\n",
    "def analyze_sentiment(text, analyzer):\n",
    "    \"\"\"Analyze sentiment of given text\"\"\"\n",
    "    try:\n",
    "        sentiment_scores = analyzer.polarity_scores(text)\n",
    "        return sentiment_scores\n",
    "    except Exception as e:\n",
    "        print(f\"Error analyzing sentiment for text: {e}\")\n",
    "        return None\n",
    "\n",
    "def classify_sentiment(compound_score, threshold=0.05):\n",
    "    \"\"\"Classify overall sentiment based on compound score\"\"\"\n",
    "    if compound_score > threshold:\n",
    "        return \"Positive\"\n",
    "    elif compound_score < -threshold:\n",
    "        return \"Negative\"\n",
    "    else:\n",
    "        return \"Neutral\"\n",
    "\n",
    "def main():\n",
    "    # Download VADER Lexicon with error handling\n",
    "    if not download_vader_lexicon():\n",
    "        print(\"Failed to download VADER lexicon. Exiting.\")\n",
    "        sys.exit(1)\n",
    "    \n",
    "    # Initialize sentiment analyzer\n",
    "    try:\n",
    "        sia = SentimentIntensityAnalyzer()\n",
    "    except Exception as e:\n",
    "        print(f\"Error initializing sentiment analyzer: {e}\")\n",
    "        sys.exit(1)\n",
    "    \n",
    "    # Political speeches dataset\n",
    "    speeches = [\n",
    "        \"We will make America great again. Believe me, it's going to be huge.\",\n",
    "        \"Our country needs change. We must work together to build a better future.\",\n",
    "        \"I'm against the current government's policies. They're failing our nation.\",\n",
    "        \"This administration has achieved remarkable success in economic growth.\",\n",
    "        \"The opposition's proposals would be catastrophic for our economy.\"\n",
    "    ]\n",
    "    \n",
    "    print(\"Political Speech Sentiment Analysis\")\n",
    "    print(\"=\" * 50)\n",
    "    \n",
    "    # Loop through each speech and analyze sentiment\n",
    "    for i, speech in enumerate(speeches, 1):\n",
    "        print(f\"\\nSpeech {i}: {speech}\")\n",
    "        print(\"-\" * 60)\n",
    "        \n",
    "        sentiment_scores = analyze_sentiment(speech, sia)\n",
    "        \n",
    "        if sentiment_scores is None:\n",
    "            print(\"Failed to analyze this speech.\")\n",
    "            continue\n",
    "        \n",
    "        print(f\"Positive sentiment: {sentiment_scores['pos']:.3f}\")\n",
    "        print(f\"Negative sentiment: {sentiment_scores['neg']:.3f}\")\n",
    "        print(f\"Neutral sentiment:  {sentiment_scores['neu']:.3f}\")\n",
    "        print(f\"Compound sentiment: {sentiment_scores['compound']:.3f}\")\n",
    "        \n",
    "        # Classify overall sentiment\n",
    "        overall_sentiment = classify_sentiment(sentiment_scores['compound'])\n",
    "        print(f\"Overall sentiment: {overall_sentiment}\")\n",
    "        \n",
    "        # Add interpretation\n",
    "        if abs(sentiment_scores['compound']) > 0.5:\n",
    "            intensity = \"Strong\"\n",
    "        elif abs(sentiment_scores['compound']) > 0.1:\n",
    "            intensity = \"Moderate\"\n",
    "        else:\n",
    "            intensity = \"Weak\"\n",
    "        \n",
    "        print(f\"Intensity: {intensity}\")\n",
    "\n",
    "if __name__ == \"__main__\":\n",
    "    main()\n"
   ]
  }
 ],
 "metadata": {
  "kernelspec": {
   "display_name": "base",
   "language": "python",
   "name": "python3"
  },
  "language_info": {
   "codemirror_mode": {
    "name": "ipython",
    "version": 3
   },
   "file_extension": ".py",
   "mimetype": "text/x-python",
   "name": "python",
   "nbconvert_exporter": "python",
   "pygments_lexer": "ipython3",
   "version": "3.12.7"
  }
 },
 "nbformat": 4,
 "nbformat_minor": 5
}
